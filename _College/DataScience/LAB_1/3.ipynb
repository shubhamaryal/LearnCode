{
 "cells": [
  {
   "cell_type": "code",
   "execution_count": 10,
   "id": "077ca509-e3e8-4151-a1e5-ac3debe1c9be",
   "metadata": {},
   "outputs": [
    {
     "name": "stdout",
     "output_type": "stream",
     "text": [
      "    Name  Age\n",
      "0  Alice   25\n",
      "1    Bob   30\n"
     ]
    }
   ],
   "source": [
    "import pandas as pd \n",
    "\n",
    "# Create a pandas DataFrame\n",
    "data = pd.DataFrame({'Name': ['Alice', 'Bob'], 'Age': [25, 30]})\n",
    "\n",
    "# Access and print the DataFrame\n",
    "print(data)"
   ]
  },
  {
   "cell_type": "code",
   "execution_count": 14,
   "id": "19ffef36-dff1-45b1-a888-ab96e13dcd39",
   "metadata": {},
   "outputs": [
    {
     "name": "stdout",
     "output_type": "stream",
     "text": [
      "0    Alice\n",
      "1      Bob\n",
      "Name: Name, dtype: object\n"
     ]
    }
   ],
   "source": [
    "print (data.Name)"
   ]
  },
  {
   "cell_type": "code",
   "execution_count": 26,
   "id": "b871795c-94e7-448c-980b-ea657fd724c0",
   "metadata": {},
   "outputs": [
    {
     "name": "stdout",
     "output_type": "stream",
     "text": [
      "a    10\n",
      "b    20\n",
      "c    30\n",
      "dtype: int64\n"
     ]
    }
   ],
   "source": [
    "import pandas as pd\n",
    "NewSeries = pd.Series([10,20,30], index=['a','b','c'])\n",
    "print(NewSeries)"
   ]
  },
  {
   "cell_type": "code",
   "execution_count": 36,
   "id": "0672fb6b-9169-4480-b249-3399ddaed012",
   "metadata": {},
   "outputs": [
    {
     "name": "stdout",
     "output_type": "stream",
     "text": [
      "      Name  Age  Salary\n",
      "0    Alice   25   50000\n",
      "1      Bob   30   60000\n",
      "2  Charlie   35   70000\n"
     ]
    }
   ],
   "source": [
    "#creating a dataframe from a dictionary\n",
    "data = {\n",
    "    'Name': ['Alice','Bob','Charlie'],\n",
    "    'Age': [25,30,35],\n",
    "    'Salary': [50000,60000,70000]\n",
    "}\n",
    "\n",
    "df = pd.DataFrame(data)\n",
    "print(df)"
   ]
  },
  {
   "cell_type": "code",
   "execution_count": 38,
   "id": "584d9be3-54e0-4688-a2c1-d6c52103cd9e",
   "metadata": {},
   "outputs": [
    {
     "name": "stdout",
     "output_type": "stream",
     "text": [
      "      Name  Age  Salary   Department\n",
      "0    Alice   25   50000           HR\n",
      "1      Bob   30   60000      Finance\n",
      "2  Charlie   35   70000  Enginnering\n"
     ]
    }
   ],
   "source": [
    "#Adding a new column\n",
    "df['Department']=['HR','Finance','Enginnering']\n",
    "print(df)"
   ]
  },
  {
   "cell_type": "code",
   "execution_count": 50,
   "id": "1164578c-846f-4403-8a34-d046fe2741db",
   "metadata": {},
   "outputs": [
    {
     "name": "stdout",
     "output_type": "stream",
     "text": [
      "DataFrame:\n",
      "      Name  Age         City  Salary\n",
      "0    Alice   25     New york   70000\n",
      "1      Bob   30  Los angeles   80000\n",
      "2  Charlie   35      Chicago  120000\n",
      "3    David   40      Houston   90000\n"
     ]
    }
   ],
   "source": [
    "#1. Create a dataframe\n",
    "data = {\n",
    "    'Name': ['Alice','Bob','Charlie','David'],\n",
    "    'Age': [25,30,35,40],\n",
    "    'City':[\"New york\",\"Los angeles\",\"Chicago\",\"Houston\"],\n",
    "    'Salary': [70000,80000,120000,90000]\n",
    "}\n",
    "df = pd.DataFrame(data)\n",
    "\n",
    "#2. Display the Daraframe\n",
    "print(\"DataFrame:\")\n",
    "print(df)"
   ]
  },
  {
   "cell_type": "code",
   "execution_count": 52,
   "id": "342846a0-1b64-4631-ab52-f54644362f02",
   "metadata": {},
   "outputs": [
    {
     "name": "stdout",
     "output_type": "stream",
     "text": [
      "\n",
      "Accessing the 'Name' column:\n",
      "0      Alice\n",
      "1        Bob\n",
      "2    Charlie\n",
      "3      David\n",
      "Name: Name, dtype: object\n"
     ]
    }
   ],
   "source": [
    "#3. Access specific columns\n",
    "print(\"\\nAccessing the 'Name' column:\")\n",
    "print(df[\"Name\"])"
   ]
  },
  {
   "cell_type": "code",
   "execution_count": 56,
   "id": "cbf64f6c-51c9-4560-a61b-a08b55a7d71b",
   "metadata": {},
   "outputs": [
    {
     "name": "stdout",
     "output_type": "stream",
     "text": [
      "\n",
      "Filtering rows where Salary > 80000:\n",
      "      Name  Age     City  Salary\n",
      "2  Charlie   35  Chicago  120000\n",
      "3    David   40  Houston   90000\n"
     ]
    }
   ],
   "source": [
    "#4. filter rows based on condition\n",
    "print(\"\\nFiltering rows where Salary > 80000:\")\n",
    "print(df[df[\"Salary\"] > 80000])"
   ]
  },
  {
   "cell_type": "code",
   "execution_count": 60,
   "id": "ce4b2d7f-b206-49aa-b106-4c8e6f8fd160",
   "metadata": {},
   "outputs": [
    {
     "name": "stdout",
     "output_type": "stream",
     "text": [
      "\n",
      "DataFrame after adding a 'Bonus' column:\n",
      "      Name  Age         City  Salary    Bonus\n",
      "0    Alice   25     New york   70000   7000.0\n",
      "1      Bob   30  Los angeles   80000   8000.0\n",
      "2  Charlie   35      Chicago  120000  12000.0\n",
      "3    David   40      Houston   90000   9000.0\n"
     ]
    }
   ],
   "source": [
    "#5. add a new column\n",
    "df[\"Bonus\"]=df['Salary']*0.1\n",
    "print(\"\\nDataFrame after adding a 'Bonus' column:\")\n",
    "print(df)"
   ]
  },
  {
   "cell_type": "code",
   "execution_count": 62,
   "id": "e88a50c8-329e-4064-8ce3-4ab5e2e29349",
   "metadata": {},
   "outputs": [
    {
     "name": "stdout",
     "output_type": "stream",
     "text": [
      "\n",
      "Basic Statistics:\n",
      "             Age         Salary         Bonus\n",
      "count   4.000000       4.000000      4.000000\n",
      "mean   32.500000   90000.000000   9000.000000\n",
      "std     6.454972   21602.468995   2160.246899\n",
      "min    25.000000   70000.000000   7000.000000\n",
      "25%    28.750000   77500.000000   7750.000000\n",
      "50%    32.500000   85000.000000   8500.000000\n",
      "75%    36.250000   97500.000000   9750.000000\n",
      "max    40.000000  120000.000000  12000.000000\n"
     ]
    }
   ],
   "source": [
    "#6. basic statistics\n",
    "print(\"\\nBasic Statistics:\")\n",
    "print(df.describe())"
   ]
  },
  {
   "cell_type": "code",
   "execution_count": 66,
   "id": "7a2112a5-ac7f-401f-811b-89115606b001",
   "metadata": {},
   "outputs": [
    {
     "name": "stdout",
     "output_type": "stream",
     "text": [
      "\n",
      "DataFrame sorted by age:\n",
      "      Name  Age         City  Salary    Bonus\n",
      "0    Alice   25     New york   70000   7000.0\n",
      "1      Bob   30  Los angeles   80000   8000.0\n",
      "2  Charlie   35      Chicago  120000  12000.0\n",
      "3    David   40      Houston   90000   9000.0\n"
     ]
    }
   ],
   "source": [
    "#7. Sort the dataframe\n",
    "print(\"\\nDataFrame sorted by age:\")\n",
    "print(df.sort_values(by=\"Age\"))"
   ]
  },
  {
   "cell_type": "code",
   "execution_count": 68,
   "id": "74bfc663-f7e6-48cf-8bae-e5378d28567f",
   "metadata": {},
   "outputs": [
    {
     "name": "stdout",
     "output_type": "stream",
     "text": [
      "\n",
      "Dataframe saved to 'output.csv'\n"
     ]
    }
   ],
   "source": [
    "#8. Save the dataframe to a CSV file\n",
    "df.to_csv(\"output.csv\",index=False)\n",
    "print(\"\\nDataframe saved to 'output.csv'\")"
   ]
  },
  {
   "cell_type": "code",
   "execution_count": 112,
   "id": "7a996fa3-1789-4d3f-8a36-83657487b535",
   "metadata": {},
   "outputs": [
    {
     "name": "stdout",
     "output_type": "stream",
     "text": [
      "First 5 rows of dataset:\n",
      "   PassengerId  Survived  Pclass  \\\n",
      "0            1         0       3   \n",
      "1            2         1       1   \n",
      "2            3         1       3   \n",
      "3            4         1       1   \n",
      "4            5         0       3   \n",
      "\n",
      "                                                Name     Sex   Age  SibSp  \\\n",
      "0                            Braund, Mr. Owen Harris    male  22.0      1   \n",
      "1  Cumings, Mrs. John Bradley (Florence Briggs Th...  female  38.0      1   \n",
      "2                             Heikkinen, Miss. Laina  female  26.0      0   \n",
      "3       Futrelle, Mrs. Jacques Heath (Lily May Peel)  female  35.0      1   \n",
      "4                           Allen, Mr. William Henry    male  35.0      0   \n",
      "\n",
      "   Parch            Ticket     Fare Cabin Embarked  \n",
      "0      0         A/5 21171   7.2500   NaN        S  \n",
      "1      0          PC 17599  71.2833   C85        C  \n",
      "2      0  STON/O2. 3101282   7.9250   NaN        S  \n",
      "3      0            113803  53.1000  C123        S  \n",
      "4      0            373450   8.0500   NaN        S  \n"
     ]
    }
   ],
   "source": [
    "import pandas as pd \n",
    "#Load the dataset from a local file\n",
    "file_path = \"/Users/shubham/Developer/LearnCode/Python/LAB_1/Titanic.csv\" #Path to the local titanic dataset\n",
    "df = pd.read_csv(file_path)\n",
    "\n",
    "#Display the first 5rows of the dataset\n",
    "print(\"First 5 rows of dataset:\")\n",
    "print(df.head())"
   ]
  },
  {
   "cell_type": "code",
   "execution_count": 114,
   "id": "914d8583-dbf8-4d21-8d0b-0bbf77c6a2aa",
   "metadata": {},
   "outputs": [
    {
     "name": "stdout",
     "output_type": "stream",
     "text": [
      "\n",
      "Basic information avout the dataset:\n",
      "<class 'pandas.core.frame.DataFrame'>\n",
      "RangeIndex: 891 entries, 0 to 890\n",
      "Data columns (total 12 columns):\n",
      " #   Column       Non-Null Count  Dtype  \n",
      "---  ------       --------------  -----  \n",
      " 0   PassengerId  891 non-null    int64  \n",
      " 1   Survived     891 non-null    int64  \n",
      " 2   Pclass       891 non-null    int64  \n",
      " 3   Name         891 non-null    object \n",
      " 4   Sex          891 non-null    object \n",
      " 5   Age          714 non-null    float64\n",
      " 6   SibSp        891 non-null    int64  \n",
      " 7   Parch        891 non-null    int64  \n",
      " 8   Ticket       891 non-null    object \n",
      " 9   Fare         891 non-null    float64\n",
      " 10  Cabin        204 non-null    object \n",
      " 11  Embarked     889 non-null    object \n",
      "dtypes: float64(2), int64(5), object(5)\n",
      "memory usage: 83.7+ KB\n",
      "None\n"
     ]
    }
   ],
   "source": [
    "#display basic information about the dataset\n",
    "print(\"\\nBasic information avout the dataset:\")\n",
    "print(df.info())"
   ]
  },
  {
   "cell_type": "code",
   "execution_count": 116,
   "id": "f1de29e3-5a80-48d5-a262-75226359ade7",
   "metadata": {},
   "outputs": [
    {
     "name": "stdout",
     "output_type": "stream",
     "text": [
      "\n",
      "Survivor count(0=not survived ,1 = survived):\n",
      "Survived\n",
      "0    549\n",
      "1    342\n",
      "Name: count, dtype: int64\n"
     ]
    }
   ],
   "source": [
    "#count of servivors (1=survived , 0 = not survived)\n",
    "survivor_count=df['Survived'].value_counts()\n",
    "print(\"\\nSurvivor count(0=not survived ,1 = survived):\")\n",
    "print(survivor_count)"
   ]
  },
  {
   "cell_type": "code",
   "execution_count": 118,
   "id": "7c756638-ec30-4856-92a0-ba98effa0309",
   "metadata": {},
   "outputs": [
    {
     "name": "stdout",
     "output_type": "stream",
     "text": [
      "   col1  col2 col3\n",
      "0     5     3    A\n",
      "1    12     6    B\n",
      "2     8     2    C\n",
      "3    15     8    D\n",
      "4     7     4    E\n",
      "            col1      col2\n",
      "count   5.000000  5.000000\n",
      "mean    9.400000  4.600000\n",
      "std     4.037326  2.408319\n",
      "min     5.000000  2.000000\n",
      "25%     7.000000  3.000000\n",
      "50%     8.000000  4.000000\n",
      "75%    12.000000  6.000000\n",
      "max    15.000000  8.000000\n"
     ]
    }
   ],
   "source": [
    "#data manipulation \n",
    "import pandas as pd \n",
    "#local data\n",
    "df = pd.read_csv(\"data.csv\")\n",
    "#Explore\n",
    "print(df.head())\n",
    "print(df.describe())"
   ]
  },
  {
   "cell_type": "code",
   "execution_count": null,
   "id": "557a33f6-6ebe-4ff0-85b5-06d7cfa92bb2",
   "metadata": {},
   "outputs": [],
   "source": []
  }
 ],
 "metadata": {
  "kernelspec": {
   "display_name": "Python 3 (ipykernel)",
   "language": "python",
   "name": "python3"
  },
  "language_info": {
   "codemirror_mode": {
    "name": "ipython",
    "version": 3
   },
   "file_extension": ".py",
   "mimetype": "text/x-python",
   "name": "python",
   "nbconvert_exporter": "python",
   "pygments_lexer": "ipython3",
   "version": "3.12.7"
  }
 },
 "nbformat": 4,
 "nbformat_minor": 5
}
