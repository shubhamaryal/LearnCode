{
 "cells": [
  {
   "cell_type": "code",
   "execution_count": 36,
   "id": "e2aa16b6-91c2-4e23-b761-2ff3eab2620e",
   "metadata": {},
   "outputs": [],
   "source": [
    "import numpy as np\n",
    "a = np.array([1,2,3])\n",
    "b = np.array([[9.0,8.0,7.0] , [6.0,5.0,5.0]])"
   ]
  },
  {
   "cell_type": "code",
   "execution_count": 38,
   "id": "345d1e8d-a8d4-4609-83f9-2332ea8e9094",
   "metadata": {},
   "outputs": [
    {
     "data": {
      "text/plain": [
       "1"
      ]
     },
     "execution_count": 38,
     "metadata": {},
     "output_type": "execute_result"
    }
   ],
   "source": [
    "a.ndim"
   ]
  },
  {
   "cell_type": "code",
   "execution_count": 40,
   "id": "87424d46-8fb6-435c-8087-273c288b3f19",
   "metadata": {},
   "outputs": [
    {
     "data": {
      "text/plain": [
       "(2, 3)"
      ]
     },
     "execution_count": 40,
     "metadata": {},
     "output_type": "execute_result"
    }
   ],
   "source": [
    "b.shape"
   ]
  },
  {
   "cell_type": "code",
   "execution_count": 42,
   "id": "81ef6a22-77d4-4cd1-b414-f3acb263dff2",
   "metadata": {},
   "outputs": [
    {
     "data": {
      "text/plain": [
       "dtype('int64')"
      ]
     },
     "execution_count": 42,
     "metadata": {},
     "output_type": "execute_result"
    }
   ],
   "source": [
    "a.dtype"
   ]
  },
  {
   "cell_type": "code",
   "execution_count": 54,
   "id": "7fcc6285-e1fb-4251-86f9-8495f355c3bd",
   "metadata": {},
   "outputs": [
    {
     "data": {
      "text/plain": [
       "2"
      ]
     },
     "execution_count": 54,
     "metadata": {},
     "output_type": "execute_result"
    }
   ],
   "source": [
    "a = np.array([1,2,3], dtype='int16')\n",
    "a.itemsize"
   ]
  },
  {
   "cell_type": "code",
   "execution_count": 56,
   "id": "6c61439b-0036-421d-9598-b035b9d16b9b",
   "metadata": {},
   "outputs": [
    {
     "data": {
      "text/plain": [
       "6"
      ]
     },
     "execution_count": 56,
     "metadata": {},
     "output_type": "execute_result"
    }
   ],
   "source": [
    "a.size*a.itemsize"
   ]
  },
  {
   "cell_type": "code",
   "execution_count": 58,
   "id": "d311bc44-a50b-4f14-87b2-bab721e22820",
   "metadata": {},
   "outputs": [
    {
     "data": {
      "text/plain": [
       "array([1, 2, 3], dtype=int16)"
      ]
     },
     "execution_count": 58,
     "metadata": {},
     "output_type": "execute_result"
    }
   ],
   "source": [
    "a"
   ]
  },
  {
   "cell_type": "code",
   "execution_count": 60,
   "id": "6b90c7df-49b1-4a77-aadb-0bf38dc15b61",
   "metadata": {},
   "outputs": [
    {
     "data": {
      "text/plain": [
       "array([1, 2, 3], dtype=int16)"
      ]
     },
     "execution_count": 60,
     "metadata": {},
     "output_type": "execute_result"
    }
   ],
   "source": [
    "a[0:]"
   ]
  },
  {
   "cell_type": "code",
   "execution_count": 62,
   "id": "a516b7e0-b87f-47a9-9621-228d33972e24",
   "metadata": {},
   "outputs": [
    {
     "data": {
      "text/plain": [
       "array([2, 3], dtype=int16)"
      ]
     },
     "execution_count": 62,
     "metadata": {},
     "output_type": "execute_result"
    }
   ],
   "source": [
    "a[1:]"
   ]
  },
  {
   "cell_type": "code",
   "execution_count": 64,
   "id": "1ba2ce6d-c1a2-4e05-bdbe-4df9befe2f95",
   "metadata": {},
   "outputs": [
    {
     "data": {
      "text/plain": [
       "array([1, 2, 3], dtype=int16)"
      ]
     },
     "execution_count": 64,
     "metadata": {},
     "output_type": "execute_result"
    }
   ],
   "source": [
    "a[:3]"
   ]
  },
  {
   "cell_type": "code",
   "execution_count": 66,
   "id": "33370536-8566-471a-94bd-795faa6333c9",
   "metadata": {},
   "outputs": [
    {
     "data": {
      "text/plain": [
       "array([1, 2, 3], dtype=int16)"
      ]
     },
     "execution_count": 66,
     "metadata": {},
     "output_type": "execute_result"
    }
   ],
   "source": [
    "a[:4]"
   ]
  },
  {
   "cell_type": "code",
   "execution_count": 108,
   "id": "d57e88bc-cdb7-48c9-ae4d-2d48f79dc8e0",
   "metadata": {},
   "outputs": [
    {
     "data": {
      "text/plain": [
       "array([[4, 5, 6]])"
      ]
     },
     "execution_count": 108,
     "metadata": {},
     "output_type": "execute_result"
    }
   ],
   "source": [
    "a[1:3] # including:excluding (the numbers are array index) (tyo index ko bich ko number print hunxa , deko index ko print hudena)"
   ]
  },
  {
   "cell_type": "code",
   "execution_count": 88,
   "id": "b0c6be0a-e457-406d-b7bb-f9099a327e67",
   "metadata": {},
   "outputs": [],
   "source": [
    "a = np.array([[1,2,3] , [4,5,6]])"
   ]
  },
  {
   "cell_type": "code",
   "execution_count": 90,
   "id": "1525c240-1249-456b-a736-dff6ee982190",
   "metadata": {},
   "outputs": [
    {
     "data": {
      "text/plain": [
       "array([1, 2, 3])"
      ]
     },
     "execution_count": 90,
     "metadata": {},
     "output_type": "execute_result"
    }
   ],
   "source": [
    "a[0,]"
   ]
  },
  {
   "cell_type": "code",
   "execution_count": 92,
   "id": "7ea70076-4340-4f07-bf10-dd9212e46d8e",
   "metadata": {},
   "outputs": [
    {
     "data": {
      "text/plain": [
       "array([1, 2, 3])"
      ]
     },
     "execution_count": 92,
     "metadata": {},
     "output_type": "execute_result"
    }
   ],
   "source": [
    "a[0,:]"
   ]
  },
  {
   "cell_type": "code",
   "execution_count": 110,
   "id": "0dbf9c7d-5fde-48d3-8272-7ae61e10a385",
   "metadata": {},
   "outputs": [
    {
     "data": {
      "text/plain": [
       "array([2])"
      ]
     },
     "execution_count": 110,
     "metadata": {},
     "output_type": "execute_result"
    }
   ],
   "source": [
    "a[0,1:6:2] # including : excluding(kun index ko bich) : step-size"
   ]
  },
  {
   "cell_type": "code",
   "execution_count": 98,
   "id": "b3ae9aa3-54ad-4320-9402-3bf48b74c3a7",
   "metadata": {},
   "outputs": [
    {
     "data": {
      "text/plain": [
       "array([2, 3])"
      ]
     },
     "execution_count": 98,
     "metadata": {},
     "output_type": "execute_result"
    }
   ],
   "source": [
    "a[0,1:3:1]"
   ]
  },
  {
   "cell_type": "code",
   "execution_count": 100,
   "id": "ad52829f-76c7-4d39-80eb-69709416a0d6",
   "metadata": {},
   "outputs": [
    {
     "data": {
      "text/plain": [
       "array([4, 5, 6])"
      ]
     },
     "execution_count": 100,
     "metadata": {},
     "output_type": "execute_result"
    }
   ],
   "source": [
    "a[1]"
   ]
  },
  {
   "cell_type": "code",
   "execution_count": 102,
   "id": "f576f6c9-6cb4-4120-ab09-9322382b4d68",
   "metadata": {},
   "outputs": [
    {
     "data": {
      "text/plain": [
       "2"
      ]
     },
     "execution_count": 102,
     "metadata": {},
     "output_type": "execute_result"
    }
   ],
   "source": [
    "a[0,1]"
   ]
  },
  {
   "cell_type": "code",
   "execution_count": 104,
   "id": "816bd044-b63d-4b71-a49c-026f15bae7e7",
   "metadata": {},
   "outputs": [
    {
     "data": {
      "text/plain": [
       "array([2, 3])"
      ]
     },
     "execution_count": 104,
     "metadata": {},
     "output_type": "execute_result"
    }
   ],
   "source": [
    "a[0,1:3]"
   ]
  },
  {
   "cell_type": "code",
   "execution_count": 114,
   "id": "f476a075-193d-4054-9183-e0ce84109495",
   "metadata": {},
   "outputs": [],
   "source": [
    "a = np.array([[1,2,3,4],[5,6,7,8],[9,10,11,12],[13,14,15,16]])"
   ]
  },
  {
   "cell_type": "code",
   "execution_count": 122,
   "id": "9c3092b4-04b6-4e96-a5ec-f93c178bd1e6",
   "metadata": {},
   "outputs": [
    {
     "data": {
      "text/plain": [
       "(array([5, 6]), array([ 9, 10]))"
      ]
     },
     "execution_count": 122,
     "metadata": {},
     "output_type": "execute_result"
    }
   ],
   "source": [
    "a[1,0:2],a[2,0:2]"
   ]
  },
  {
   "cell_type": "code",
   "execution_count": 186,
   "id": "e38576c1-dac9-4770-aab6-3be9c84fb1c9",
   "metadata": {},
   "outputs": [
    {
     "data": {
      "text/plain": [
       "(array([[2]]), array([[7]]), array([[12]]))"
      ]
     },
     "execution_count": 186,
     "metadata": {},
     "output_type": "execute_result"
    }
   ],
   "source": [
    "# method 1\n",
    "a[0:1,1:2],a[1:2,2:3],a[2:3,3:4]"
   ]
  },
  {
   "cell_type": "code",
   "execution_count": 206,
   "id": "9fde786f-3688-4d1f-91c6-35d98831adbe",
   "metadata": {},
   "outputs": [
    {
     "data": {
      "text/plain": [
       "array([ 2,  7, 12])"
      ]
     },
     "execution_count": 206,
     "metadata": {},
     "output_type": "execute_result"
    }
   ],
   "source": [
    "# method 2\n",
    "a[[0, 1, 2], [1, 2, 3]] # [row, row, row][col., col, col]"
   ]
  },
  {
   "cell_type": "code",
   "execution_count": 198,
   "id": "e6a33e42-6713-4aed-bc3a-91ad6714f50d",
   "metadata": {},
   "outputs": [
    {
     "data": {
      "text/plain": [
       "(2, 7, 12)"
      ]
     },
     "execution_count": 198,
     "metadata": {},
     "output_type": "execute_result"
    }
   ],
   "source": [
    "# method 3\n",
    "a[0,1],a[1,2],a[2,3]"
   ]
  },
  {
   "cell_type": "code",
   "execution_count": 200,
   "id": "f6f6e69b-b8be-43d0-a20f-2f1a96a3f414",
   "metadata": {},
   "outputs": [],
   "source": [
    "# method 4"
   ]
  },
  {
   "cell_type": "code",
   "execution_count": 202,
   "id": "f80fffc9-ddd7-40aa-8003-97f25fe4e14c",
   "metadata": {},
   "outputs": [
    {
     "data": {
      "text/plain": [
       "array([ 2,  7, 12])"
      ]
     },
     "execution_count": 202,
     "metadata": {},
     "output_type": "execute_result"
    }
   ],
   "source": [
    "c =a [0:3,1:4]\n",
    "b=c.flatten()\n",
    "b\n",
    "b[::4]"
   ]
  },
  {
   "cell_type": "code",
   "execution_count": 204,
   "id": "a3ab0339-0e24-4b81-bb9d-766a3e5015b5",
   "metadata": {},
   "outputs": [
    {
     "data": {
      "text/plain": [
       "array([ 3,  4, 11, 12, 15, 16])"
      ]
     },
     "execution_count": 204,
     "metadata": {},
     "output_type": "execute_result"
    }
   ],
   "source": [
    "a[[0, 0, 2, 2, 3, 3], [2, 3, 2, 3, 2, 3]] "
   ]
  },
  {
   "cell_type": "code",
   "execution_count": null,
   "id": "94d1f7f0-731e-4d42-86c6-78c98ac3826f",
   "metadata": {},
   "outputs": [],
   "source": []
  }
 ],
 "metadata": {
  "kernelspec": {
   "display_name": "Python 3 (ipykernel)",
   "language": "python",
   "name": "python3"
  },
  "language_info": {
   "codemirror_mode": {
    "name": "ipython",
    "version": 3
   },
   "file_extension": ".py",
   "mimetype": "text/x-python",
   "name": "python",
   "nbconvert_exporter": "python",
   "pygments_lexer": "ipython3",
   "version": "3.12.7"
  }
 },
 "nbformat": 4,
 "nbformat_minor": 5
}
