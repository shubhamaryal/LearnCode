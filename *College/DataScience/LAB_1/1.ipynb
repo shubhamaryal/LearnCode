{
 "cells": [
  {
   "cell_type": "code",
   "execution_count": 3,
   "id": "5a387542-7182-4a90-b1a2-fe8dc571462f",
   "metadata": {},
   "outputs": [
    {
     "name": "stdout",
     "output_type": "stream",
     "text": [
      "hello\n"
     ]
    }
   ],
   "source": [
    "print (\"hello\")"
   ]
  },
  {
   "cell_type": "code",
   "execution_count": 10,
   "id": "27765aef-d729-4523-a22a-ef770b8d0a95",
   "metadata": {},
   "outputs": [
    {
     "name": "stdout",
     "output_type": "stream",
     "text": [
      "YAY\n"
     ]
    }
   ],
   "source": [
    "a = 4\n",
    "if a==4 : \n",
    "    print (\"YAY\")"
   ]
  },
  {
   "cell_type": "code",
   "execution_count": 1,
   "id": "9a97a683-5d33-4c65-987b-617e78a85ac3",
   "metadata": {},
   "outputs": [
    {
     "name": "stdout",
     "output_type": "stream",
     "text": [
      "<class 'int'>\n",
      "<class 'float'>\n",
      "<class 'str'>\n",
      "<class 'bool'>\n"
     ]
    }
   ],
   "source": [
    "x =10 # integer\n",
    "y =3.14 #float\n",
    "name= \"data\" #string\n",
    "is_ready = True # boolean\n",
    "print(type(x))\n",
    "print(type(y))\n",
    "print(type(name))\n",
    "print(type(is_ready))"
   ]
  },
  {
   "cell_type": "code",
   "execution_count": 16,
   "id": "d0c0645a-cd26-49b5-bd0b-a151f3f7a163",
   "metadata": {},
   "outputs": [
    {
     "name": "stdout",
     "output_type": "stream",
     "text": [
      "False\n",
      "True\n",
      "False\n"
     ]
    }
   ],
   "source": [
    "a = True\n",
    "b = False\n",
    "print(a and b)\n",
    "print(a or b)\n",
    "print(not a)"
   ]
  },
  {
   "cell_type": "code",
   "execution_count": 22,
   "id": "e95d8cfc-b638-431c-b08b-28e10badc390",
   "metadata": {},
   "outputs": [
    {
     "name": "stdout",
     "output_type": "stream",
     "text": [
      "1\n",
      "2\n",
      "3\n",
      "4\n",
      "5\n"
     ]
    }
   ],
   "source": [
    "numbers = [1,2,3,4,5]\n",
    "print(numbers[0])\n",
    "print(numbers[1])\n",
    "print(numbers[2])\n",
    "print(numbers[3])\n",
    "print(numbers[4])"
   ]
  },
  {
   "cell_type": "code",
   "execution_count": 20,
   "id": "ce8b8e76-dc8f-4e5b-aa53-d2be3cfbaea6",
   "metadata": {},
   "outputs": [
    {
     "name": "stdout",
     "output_type": "stream",
     "text": [
      "1\n",
      "2\n",
      "3\n",
      "4\n",
      "5\n"
     ]
    }
   ],
   "source": [
    "numbers = [1,2,3,4,5] #list\n",
    "for x in numbers : \n",
    "    print (x)"
   ]
  },
  {
   "cell_type": "code",
   "execution_count": 24,
   "id": "d491ffbd-0292-491c-9250-c90229979438",
   "metadata": {},
   "outputs": [
    {
     "name": "stdout",
     "output_type": "stream",
     "text": [
      "1\n",
      "2\n",
      "3\n",
      "4\n",
      "6\n"
     ]
    }
   ],
   "source": [
    "numbers = [1,2,3,4]\n",
    "numbers.append(6)\n",
    "for x in numbers :\n",
    "    print(x)"
   ]
  },
  {
   "cell_type": "code",
   "execution_count": 28,
   "id": "eb5162d1-5133-4696-874d-7928c3282d30",
   "metadata": {},
   "outputs": [
    {
     "name": "stdout",
     "output_type": "stream",
     "text": [
      "[1, 2, 100, 4]\n"
     ]
    }
   ],
   "source": [
    "numbers = [1,2,3,4]\n",
    "numbers[2] = 100\n",
    "print(numbers)"
   ]
  },
  {
   "cell_type": "code",
   "execution_count": 30,
   "id": "4612dd22-db1a-49c9-ab94-12b8f046b9e0",
   "metadata": {},
   "outputs": [
    {
     "name": "stdout",
     "output_type": "stream",
     "text": [
      "['shubham', 1, 2, 'shubrat', 0.5, 0.2, 'swikrit', 99]\n"
     ]
    }
   ],
   "source": [
    "newList = [\"shubham\",1,2,\"shubrat\",0.5,0.2,\"swikrit\",99]\n",
    "print(newList)"
   ]
  },
  {
   "cell_type": "code",
   "execution_count": 34,
   "id": "3c32a582-5621-4414-a8af-dd778ef55bc9",
   "metadata": {},
   "outputs": [
    {
     "name": "stdout",
     "output_type": "stream",
     "text": [
      "['shubham', 1, 2, 0.5, 0.2, 'swikrit', 99]\n"
     ]
    }
   ],
   "source": [
    "newList = [\"shubham\",1,2,\"shubrat\",0.5,0.2,\"swikrit\",99]\n",
    "newList.remove(\"shubrat\")\n",
    "print(newList)\n"
   ]
  },
  {
   "cell_type": "code",
   "execution_count": 38,
   "id": "3f442da5-8f0c-4997-9b77-c3b92fb5c6f9",
   "metadata": {},
   "outputs": [
    {
     "name": "stdout",
     "output_type": "stream",
     "text": [
      "['shubham', 1, 2, 'shubrat', 0.5, 0.2, 'swikrit']\n"
     ]
    }
   ],
   "source": [
    "newList = [\"shubham\",1,2,\"shubrat\",0.5,0.2,\"swikrit\",99]\n",
    "newList.remove(99)\n",
    "print(newList)"
   ]
  },
  {
   "cell_type": "code",
   "execution_count": 40,
   "id": "0807806e-5ce2-41ef-9d33-851a4d294206",
   "metadata": {},
   "outputs": [
    {
     "name": "stdout",
     "output_type": "stream",
     "text": [
      "['shubham', 1, 2, 'shubrat', 0.5, 0.2, 'swikrit', 99, [8, 9, 10]]\n"
     ]
    }
   ],
   "source": [
    "newList = [\"shubham\",1,2,\"shubrat\",0.5,0.2,\"swikrit\",99]\n",
    "newList.append([8,9,10])\n",
    "print(newList)"
   ]
  },
  {
   "cell_type": "code",
   "execution_count": 104,
   "id": "41c6ab73-0959-475c-b470-d8f4b0e8fc0c",
   "metadata": {},
   "outputs": [
    {
     "name": "stdout",
     "output_type": "stream",
     "text": [
      "alice\n",
      "20\n"
     ]
    }
   ],
   "source": [
    "# Dictionary is the collection of key value pairs where each key is unique and it maps to value .\n",
    "person = {\"name\" : \"alice\" , \"age\" :20}\n",
    "print(person[\"name\"])\n",
    "print(person[\"age\"])"
   ]
  },
  {
   "cell_type": "code",
   "execution_count": 66,
   "id": "a7791b91-5075-4146-8a38-66fe4928318f",
   "metadata": {},
   "outputs": [
    {
     "name": "stdout",
     "output_type": "stream",
     "text": [
      "The area is: 63\n"
     ]
    }
   ],
   "source": [
    "l = 9\n",
    "b = 7\n",
    "a = l*b\n",
    "print(\"The area is:\", a)"
   ]
  },
  {
   "cell_type": "code",
   "execution_count": 88,
   "id": "94ae9002-3519-42e9-9937-9981698ee05e",
   "metadata": {},
   "outputs": [
    {
     "name": "stdout",
     "output_type": "stream",
     "text": [
      "1 is odd.\n",
      "2 is even.\n",
      "3 is odd.\n",
      "4 is even.\n",
      "Max:  4\n",
      "Min:  1\n",
      "Sum:  10\n"
     ]
    }
   ],
   "source": [
    "numbers = [1,2,3,4]\n",
    "for number in numbers: \n",
    "    if number % 2 == 0:\n",
    "        print(f\"{number} is even.\")\n",
    "    else:\n",
    "        print(f\"{number} is odd.\")\n",
    "print(\"Max: \" ,max(numbers))\n",
    "print(\"Min: \" ,min(numbers))\n",
    "print(\"Sum: \", sum(numbers))"
   ]
  },
  {
   "cell_type": "code",
   "execution_count": 102,
   "id": "505e5db8-6592-44ef-97aa-600967e29bf4",
   "metadata": {},
   "outputs": [
    {
     "name": "stdout",
     "output_type": "stream",
     "text": [
      "The mean is 12.5\n"
     ]
    }
   ],
   "source": [
    "#function to calculate the mean of a list \n",
    "\n",
    "def calculate_mean(data):\n",
    "    return sum(data)/len(data)\n",
    "    \n",
    "data = [5,10,15,20]\n",
    "mean = calculate_mean(data)\n",
    "print(f\"The mean is {mean}\")"
   ]
  },
  {
   "cell_type": "code",
   "execution_count": 92,
   "id": "adc3299d-bd77-4247-bf43-a876eb99dd23",
   "metadata": {},
   "outputs": [
    {
     "name": "stdout",
     "output_type": "stream",
     "text": [
      "2 is even\n",
      "4 is even\n"
     ]
    }
   ],
   "source": [
    "#oop and conditions\n",
    "\n",
    "for num in numbers:\n",
    "    if num%2==0:\n",
    "        print(f\"{num} is even\")"
   ]
  },
  {
   "cell_type": "code",
   "execution_count": 94,
   "id": "45414371-4286-45db-8dd9-317e8a0dedff",
   "metadata": {},
   "outputs": [
    {
     "name": "stdout",
     "output_type": "stream",
     "text": [
      "2.5\n"
     ]
    }
   ],
   "source": [
    "#Python libraries for Data Science\n",
    "\n",
    "#NumPy : For numerical operations \n",
    "import numpy as np\n",
    "array = np.array([1,2,3,4])\n",
    "print(array.mean()) #average"
   ]
  },
  {
   "cell_type": "code",
   "execution_count": 100,
   "id": "2d9189ab-aa2c-42fd-b014-5bfba13df739",
   "metadata": {},
   "outputs": [
    {
     "name": "stdout",
     "output_type": "stream",
     "text": [
      "[ 2  4  6  8 10]\n"
     ]
    }
   ],
   "source": [
    "import numpy as np \n",
    "#Create a NumPy array \n",
    "array = np.array([1,2,3,4,5])\n",
    "#perform mathematical operations \n",
    "print(array*2)"
   ]
  },
  {
   "cell_type": "code",
   "execution_count": 124,
   "id": "2c243c3b-da04-4d2d-bcbc-31ebed4860d6",
   "metadata": {
    "scrolled": true
   },
   "outputs": [
    {
     "name": "stdout",
     "output_type": "stream",
     "text": [
      "    Name  Age\n",
      "0  Alice   25\n",
      "1    Bob   30\n",
      "-----\n",
      "0    25\n",
      "1    30\n",
      "Name: Age, dtype: int64\n",
      "-----\n",
      "0    Alice\n",
      "1      Bob\n",
      "Name: Name, dtype: object\n"
     ]
    }
   ],
   "source": [
    "import pandas as pd \n",
    "#Create a Pandas DataFrame\n",
    "data = pd.DataFrame({'Name' : ['Alice','Bob'], 'Age':[25,30]})\n",
    "#Access a column\n",
    "print (data)\n",
    "print('-----')\n",
    "print (data['Age'])\n",
    "print('-----')\n",
    "print (data['Name'])\n",
    "\n",
    "#pandas le data frame lai tabluar form ma rakhxa"
   ]
  },
  {
   "cell_type": "code",
   "execution_count": 126,
   "id": "3dee1a78-f25d-46cd-8c32-56507a8d82f7",
   "metadata": {},
   "outputs": [
    {
     "name": "stdout",
     "output_type": "stream",
     "text": [
      "0    10\n",
      "1    20\n",
      "2    30\n",
      "3    40\n",
      "dtype: int64\n",
      "20\n",
      "a    10\n",
      "b    20\n",
      "c    30\n",
      "dtype: int64\n"
     ]
    }
   ],
   "source": [
    "import pandas as pd \n",
    "#creating a series from a list \n",
    "data = pd.Series([10,20,30,40])\n",
    "print(data)\n",
    "\n",
    "#Accessing a value by index\n",
    "print(data[1]) \n",
    "\n",
    "#Custom index\n",
    "dataWithLabels = pd.Series([10,20,30], index=['a','b','c'])\n",
    "print(dataWithLabels)"
   ]
  },
  {
   "cell_type": "code",
   "execution_count": 4,
   "id": "cbc00499-e621-4c60-9a65-4890d783e155",
   "metadata": {},
   "outputs": [
    {
     "name": "stdout",
     "output_type": "stream",
     "text": [
      "      Name  Age  Salary\n",
      "0    Alice   25   50000\n",
      "1      Bob   30   60000\n",
      "2  Charlie   35   70000\n"
     ]
    }
   ],
   "source": [
    "#Creating a DataFrame from a dictionary\n",
    "import pandas as pd  \n",
    "\n",
    "data = {\n",
    "    'Name': ['Alice', 'Bob', 'Charlie'], \n",
    "    'Age': [25, 30, 35],                \n",
    "    'Salary': [50000, 60000, 70000]      \n",
    "}\n",
    "df = pd.DataFrame(data)\n",
    "print(df)\n"
   ]
  },
  {
   "cell_type": "code",
   "execution_count": null,
   "id": "68447394-fba5-4555-b785-ccc4be41eece",
   "metadata": {},
   "outputs": [],
   "source": []
  }
 ],
 "metadata": {
  "kernelspec": {
   "display_name": "Python 3 (ipykernel)",
   "language": "python",
   "name": "python3"
  },
  "language_info": {
   "codemirror_mode": {
    "name": "ipython",
    "version": 3
   },
   "file_extension": ".py",
   "mimetype": "text/x-python",
   "name": "python",
   "nbconvert_exporter": "python",
   "pygments_lexer": "ipython3",
   "version": "3.12.7"
  }
 },
 "nbformat": 4,
 "nbformat_minor": 5
}
