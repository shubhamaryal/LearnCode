{
 "cells": [
  {
   "cell_type": "code",
   "execution_count": 1,
   "id": "b9283ef1-f261-44f9-b5cb-a4bee5e21642",
   "metadata": {},
   "outputs": [],
   "source": [
    "# Lab title : Python implementation for Efficient Database Cleaning and Data Preparation"
   ]
  },
  {
   "cell_type": "code",
   "execution_count": 2,
   "id": "a2709967-a644-41bb-a144-4ff430c0cbbd",
   "metadata": {},
   "outputs": [
    {
     "name": "stdout",
     "output_type": "stream",
     "text": [
      "Original DataFrame:\n",
      "   ID     Name  Age           City\n",
      "0   1    Alice   23       New York\n",
      "1   2      Bob   30    Los Angeles\n",
      "2   3  Charlie   25        Chicago\n",
      "3   4    David   35        Houston\n",
      "4   5      Eva   28        Phoenix\n",
      "5   2      Bob   30    Los Angeles\n",
      "6   7    Grace   22  San Francisco\n",
      "7   8   Hannah   24        Seattle\n",
      "8   1    Alice   23       New York\n",
      "\n",
      "Duplicate Rows:\n",
      "   ID   Name  Age         City\n",
      "5   2    Bob   30  Los Angeles\n",
      "8   1  Alice   23     New York\n"
     ]
    }
   ],
   "source": [
    "import pandas as pd\n",
    "\n",
    "# Sample dictionary to create a DataFrame\n",
    "data={\n",
    "    'ID':[1,2,3,4,5,2,7,8,1],\n",
    "    'Name':['Alice','Bob','Charlie','David','Eva','Bob','Grace','Hannah','Alice'],\n",
    "    'Age':[23,30,25,35,28,30,22,24,23],\n",
    "    'City':['New York','Los Angeles','Chicago','Houston','Phoenix','Los Angeles','San Francisco','Seattle','New York']\n",
    "}\n",
    "\n",
    "# Create DataFrame\n",
    "df=pd.DataFrame(data)\n",
    "\n",
    "# Show DataFrame\n",
    "print(\"Original DataFrame:\")\n",
    "print(df)\n",
    "\n",
    "# Identify duplicate rows based on all columns\n",
    "duplicates = df[df.duplicated()]\n",
    "\n",
    "# Show the duplicated rows\n",
    "print(\"\\nDuplicate Rows:\")\n",
    "print(duplicates)"
   ]
  },
  {
   "cell_type": "code",
   "execution_count": 3,
   "id": "3371c1cb-086a-4f40-bacd-2c474119a2a9",
   "metadata": {},
   "outputs": [
    {
     "data": {
      "text/html": [
       "<div>\n",
       "<style scoped>\n",
       "    .dataframe tbody tr th:only-of-type {\n",
       "        vertical-align: middle;\n",
       "    }\n",
       "\n",
       "    .dataframe tbody tr th {\n",
       "        vertical-align: top;\n",
       "    }\n",
       "\n",
       "    .dataframe thead th {\n",
       "        text-align: right;\n",
       "    }\n",
       "</style>\n",
       "<table border=\"1\" class=\"dataframe\">\n",
       "  <thead>\n",
       "    <tr style=\"text-align: right;\">\n",
       "      <th></th>\n",
       "      <th>PassengerId</th>\n",
       "      <th>Survived</th>\n",
       "      <th>Pclass</th>\n",
       "      <th>Name</th>\n",
       "      <th>Sex</th>\n",
       "      <th>Age</th>\n",
       "      <th>SibSp</th>\n",
       "      <th>Parch</th>\n",
       "      <th>Ticket</th>\n",
       "      <th>Fare</th>\n",
       "      <th>Cabin</th>\n",
       "      <th>Embarked</th>\n",
       "    </tr>\n",
       "  </thead>\n",
       "  <tbody>\n",
       "    <tr>\n",
       "      <th>0</th>\n",
       "      <td>1</td>\n",
       "      <td>0</td>\n",
       "      <td>3</td>\n",
       "      <td>Braund, Mr. Owen Harris</td>\n",
       "      <td>male</td>\n",
       "      <td>22.0</td>\n",
       "      <td>1</td>\n",
       "      <td>0</td>\n",
       "      <td>A/5 21171</td>\n",
       "      <td>7.2500</td>\n",
       "      <td>NaN</td>\n",
       "      <td>S</td>\n",
       "    </tr>\n",
       "    <tr>\n",
       "      <th>1</th>\n",
       "      <td>2</td>\n",
       "      <td>1</td>\n",
       "      <td>1</td>\n",
       "      <td>Cumings, Mrs. John Bradley (Florence Briggs Th...</td>\n",
       "      <td>female</td>\n",
       "      <td>38.0</td>\n",
       "      <td>1</td>\n",
       "      <td>0</td>\n",
       "      <td>PC 17599</td>\n",
       "      <td>71.2833</td>\n",
       "      <td>C85</td>\n",
       "      <td>C</td>\n",
       "    </tr>\n",
       "    <tr>\n",
       "      <th>2</th>\n",
       "      <td>3</td>\n",
       "      <td>1</td>\n",
       "      <td>3</td>\n",
       "      <td>Heikkinen, Miss. Laina</td>\n",
       "      <td>female</td>\n",
       "      <td>26.0</td>\n",
       "      <td>0</td>\n",
       "      <td>0</td>\n",
       "      <td>STON/O2. 3101282</td>\n",
       "      <td>7.9250</td>\n",
       "      <td>NaN</td>\n",
       "      <td>S</td>\n",
       "    </tr>\n",
       "    <tr>\n",
       "      <th>3</th>\n",
       "      <td>4</td>\n",
       "      <td>1</td>\n",
       "      <td>1</td>\n",
       "      <td>Futrelle, Mrs. Jacques Heath (Lily May Peel)</td>\n",
       "      <td>female</td>\n",
       "      <td>35.0</td>\n",
       "      <td>1</td>\n",
       "      <td>0</td>\n",
       "      <td>113803</td>\n",
       "      <td>53.1000</td>\n",
       "      <td>C123</td>\n",
       "      <td>S</td>\n",
       "    </tr>\n",
       "    <tr>\n",
       "      <th>4</th>\n",
       "      <td>5</td>\n",
       "      <td>0</td>\n",
       "      <td>3</td>\n",
       "      <td>Allen, Mr. William Henry</td>\n",
       "      <td>male</td>\n",
       "      <td>35.0</td>\n",
       "      <td>0</td>\n",
       "      <td>0</td>\n",
       "      <td>373450</td>\n",
       "      <td>8.0500</td>\n",
       "      <td>NaN</td>\n",
       "      <td>S</td>\n",
       "    </tr>\n",
       "  </tbody>\n",
       "</table>\n",
       "</div>"
      ],
      "text/plain": [
       "   PassengerId  Survived  Pclass  \\\n",
       "0            1         0       3   \n",
       "1            2         1       1   \n",
       "2            3         1       3   \n",
       "3            4         1       1   \n",
       "4            5         0       3   \n",
       "\n",
       "                                                Name     Sex   Age  SibSp  \\\n",
       "0                            Braund, Mr. Owen Harris    male  22.0      1   \n",
       "1  Cumings, Mrs. John Bradley (Florence Briggs Th...  female  38.0      1   \n",
       "2                             Heikkinen, Miss. Laina  female  26.0      0   \n",
       "3       Futrelle, Mrs. Jacques Heath (Lily May Peel)  female  35.0      1   \n",
       "4                           Allen, Mr. William Henry    male  35.0      0   \n",
       "\n",
       "   Parch            Ticket     Fare Cabin Embarked  \n",
       "0      0         A/5 21171   7.2500   NaN        S  \n",
       "1      0          PC 17599  71.2833   C85        C  \n",
       "2      0  STON/O2. 3101282   7.9250   NaN        S  \n",
       "3      0            113803  53.1000  C123        S  \n",
       "4      0            373450   8.0500   NaN        S  "
      ]
     },
     "execution_count": 3,
     "metadata": {},
     "output_type": "execute_result"
    }
   ],
   "source": [
    "import pandas as pd \n",
    "import numpy as np\n",
    "\n",
    "# Load the dataset\n",
    "df1= pd.read_csv('Titanic.csv')\n",
    "df1.head()"
   ]
  },
  {
   "cell_type": "code",
   "execution_count": 4,
   "id": "d0e40ef5-23c0-4d8c-aaa7-f61c506e02e8",
   "metadata": {},
   "outputs": [
    {
     "data": {
      "text/plain": [
       "0      False\n",
       "1      False\n",
       "2      False\n",
       "3      False\n",
       "4      False\n",
       "       ...  \n",
       "886    False\n",
       "887    False\n",
       "888    False\n",
       "889    False\n",
       "890    False\n",
       "Length: 891, dtype: bool"
      ]
     },
     "execution_count": 4,
     "metadata": {},
     "output_type": "execute_result"
    }
   ],
   "source": [
    "# Data Inspection and Exploration\n",
    "# Understand the data by inspecting its structure and identifying missing values, outliers and inconsistencies\n",
    "# and check the duplicated rows with below python code\n",
    "\n",
    "df1.duplicated()"
   ]
  },
  {
   "cell_type": "code",
   "execution_count": 5,
   "id": "15245144-b6ca-45fe-bc22-eee4c6e79dd9",
   "metadata": {},
   "outputs": [
    {
     "name": "stdout",
     "output_type": "stream",
     "text": [
      "<class 'pandas.core.frame.DataFrame'>\n",
      "RangeIndex: 891 entries, 0 to 890\n",
      "Data columns (total 12 columns):\n",
      " #   Column       Non-Null Count  Dtype  \n",
      "---  ------       --------------  -----  \n",
      " 0   PassengerId  891 non-null    int64  \n",
      " 1   Survived     891 non-null    int64  \n",
      " 2   Pclass       891 non-null    int64  \n",
      " 3   Name         891 non-null    object \n",
      " 4   Sex          891 non-null    object \n",
      " 5   Age          714 non-null    float64\n",
      " 6   SibSp        891 non-null    int64  \n",
      " 7   Parch        891 non-null    int64  \n",
      " 8   Ticket       891 non-null    object \n",
      " 9   Fare         891 non-null    float64\n",
      " 10  Cabin        204 non-null    object \n",
      " 11  Embarked     889 non-null    object \n",
      "dtypes: float64(2), int64(5), object(5)\n",
      "memory usage: 83.7+ KB\n"
     ]
    }
   ],
   "source": [
    "df1.info()\n",
    "# from the above data into, we can see that age and cabin have an unequal number of counts \n",
    "# and some of the columns are categorical and have data type objects and some are integer and float values"
   ]
  },
  {
   "cell_type": "code",
   "execution_count": 6,
   "id": "17a5a485-faa0-4e8a-8d0d-b09215bcb36b",
   "metadata": {},
   "outputs": [
    {
     "name": "stdout",
     "output_type": "stream",
     "text": [
      "Categorial columns: ['Name', 'Sex', 'Ticket', 'Cabin', 'Embarked']\n",
      "Numerical columns: ['PassengerId', 'Survived', 'Pclass', 'Age', 'SibSp', 'Parch', 'Fare']\n"
     ]
    }
   ],
   "source": [
    "# Checking te categorical and numerical columns\n",
    "\n",
    "# Categorial columns\n",
    "cat_col = [col for col in df1.columns if df1[col].dtype == 'object']\n",
    "print('Categorial columns:',cat_col)\n",
    "# Numerical columns\n",
    "num_col = [col for col in df1.columns if df1[col].dtype != 'object']\n",
    "print('Numerical columns:',num_col)"
   ]
  },
  {
   "cell_type": "code",
   "execution_count": 7,
   "id": "9fe120c9-55b5-4c31-b94f-e30c2651e3ab",
   "metadata": {},
   "outputs": [
    {
     "data": {
      "text/plain": [
       "Name        891\n",
       "Sex           2\n",
       "Ticket      681\n",
       "Cabin       147\n",
       "Embarked      3\n",
       "dtype: int64"
      ]
     },
     "execution_count": 7,
     "metadata": {},
     "output_type": "execute_result"
    }
   ],
   "source": [
    "# Checking the total number of unique values in the categorial columns\n",
    "df1[cat_col].nunique()"
   ]
  },
  {
   "cell_type": "code",
   "execution_count": 8,
   "id": "fd7f1d6d-f502-4536-b50b-e4d1c5983018",
   "metadata": {},
   "outputs": [
    {
     "data": {
      "text/plain": [
       "array(['A/5 21171', 'PC 17599', 'STON/O2. 3101282', '113803', '373450',\n",
       "       '330877', '17463', '349909', '347742', '237736', 'PP 9549',\n",
       "       '113783', 'A/5. 2151', '347082', '350406', '248706', '382652',\n",
       "       '244373', '345763', '2649', '239865', '248698', '330923', '113788',\n",
       "       '347077', '2631', '19950', '330959', '349216', 'PC 17601',\n",
       "       'PC 17569', '335677', 'C.A. 24579', 'PC 17604', '113789', '2677',\n",
       "       'A./5. 2152', '345764', '2651', '7546', '11668', '349253',\n",
       "       'SC/Paris 2123', '330958', 'S.C./A.4. 23567', '370371', '14311',\n",
       "       '2662', '349237', '3101295'], dtype=object)"
      ]
     },
     "execution_count": 8,
     "metadata": {},
     "output_type": "execute_result"
    }
   ],
   "source": [
    "# Analyzing the \"Ticket\" Columns\n",
    "df1['Ticket'].unique()[:50]"
   ]
  },
  {
   "cell_type": "code",
   "execution_count": 9,
   "id": "423e13e1-4a4a-41e3-8753-7e928feee64a",
   "metadata": {},
   "outputs": [
    {
     "data": {
      "text/plain": [
       "(891, 10)"
      ]
     },
     "execution_count": 9,
     "metadata": {},
     "output_type": "execute_result"
    }
   ],
   "source": [
    "# Dropping IrreLevant Columns\n",
    "df2=df1.drop(columns=['Name', 'Ticket'])\n",
    "df2.shape\n",
    "\n",
    "# Reason for Dropping:\n",
    "# 1. Names are Likely unique for each individual and don't provide meaningful information for predicting the target variables\n",
    "# 2. Keeping it adds unnecessary complexity without benefiting the model.\n",
    "# 3. Ticket values are categorical text data that need extensive preprocessing to extract useful features.\n",
    "# 4. If such preprocessing isn't planned, it's better to drop this column to simplify the dataset."
   ]
  },
  {
   "cell_type": "code",
   "execution_count": 10,
   "id": "3fae25bf-5254-491d-bcf6-8a3cb623b339",
   "metadata": {},
   "outputs": [
    {
     "data": {
      "text/plain": [
       "PassengerId     0.00\n",
       "Survived        0.00\n",
       "Pclass          0.00\n",
       "Sex             0.00\n",
       "Age            19.87\n",
       "SibSp           0.00\n",
       "Parch           0.00\n",
       "Fare            0.00\n",
       "Cabin          77.10\n",
       "Embarked        0.22\n",
       "dtype: float64"
      ]
     },
     "execution_count": 10,
     "metadata": {},
     "output_type": "execute_result"
    }
   ],
   "source": [
    "# Handling Missing data\n",
    "# Checking the % missing values columns-wise for each row using df.isnull()\n",
    "# which checks whether the values are null or not and gives returns boolean values\n",
    "\n",
    "round((df2.isnull().sum()/df1.shape[0])*100,2)"
   ]
  },
  {
   "cell_type": "code",
   "execution_count": 11,
   "id": "16cfc276-3f55-483f-82e8-ac85e6189fe2",
   "metadata": {},
   "outputs": [
    {
     "data": {
      "text/plain": [
       "(889, 9)"
      ]
     },
     "execution_count": 11,
     "metadata": {},
     "output_type": "execute_result"
    }
   ],
   "source": [
    "# As we can see from the above result that cabin has 77% null values and Age has 19.8% and Embarked has 0.22% of null values.\n",
    "#So, it's not a good idea to fill 77% of null values. So, we will drop the Cabin column.\n",
    "#Embarked column has only 0.22% of null values so, we drop the null values rows of Embarked volumn\n",
    "\n",
    "df3 = df2.drop(columns='Cabin')\n",
    "df3.dropna(subset=['Embarked'], axis=0, inplace=True)\n",
    "df3.shape"
   ]
  },
  {
   "cell_type": "code",
   "execution_count": 12,
   "id": "b1895e49-6191-4b5e-b276-b83b8cdd2ac6",
   "metadata": {},
   "outputs": [
    {
     "data": {
      "text/plain": [
       "PassengerId    0\n",
       "Survived       0\n",
       "Pclass         0\n",
       "Sex            0\n",
       "Age            0\n",
       "SibSp          0\n",
       "Parch          0\n",
       "Fare           0\n",
       "Embarked       0\n",
       "dtype: int64"
      ]
     },
     "execution_count": 12,
     "metadata": {},
     "output_type": "execute_result"
    }
   ],
   "source": [
    "# Imputing the missing values from past observations \n",
    "# We can use Mean imputation or Media imputations for the case.\n",
    "\n",
    "# Note: \n",
    "    # Mean imputation is suitable when the data is normally distributed and has no extereme outliers.\n",
    "    # Median imputation is perferable when the data contains outliters or is skewed.\n",
    "\n",
    "# Mean imputation \n",
    "df4 = df3.fillna(df3.Age.mean())\n",
    "#Let's check the null values again \n",
    "df4.isnull().sum()"
   ]
  },
  {
   "cell_type": "code",
   "execution_count": 13,
   "id": "075373ff-e4a6-47e5-87c7-3b057c4f3e3b",
   "metadata": {},
   "outputs": [
    {
     "data": {
      "image/png": "[encoded data removed]",
      "text/plain": [
       "<Figure size 640x480 with 1 Axes>"
      ]
     },
     "metadata": {},
     "output_type": "display_data"
    }
   ],
   "source": [
    "# Handling Outliers \n",
    "\n",
    "# To check the outliers, A box plot, also referred to as a box-and-whisker plot \n",
    "# It is a graphical representation of a dataset's distributioning outliers\n",
    "# Individual points beyond the whiskers are considered potential outliers.\n",
    "\n",
    "import matplotlib.pyplot as plt\n",
    "\n",
    "plt.boxplot(df4['Age'],vert=False)\n",
    "plt.ylabel('Variable')\n",
    "plt.xlabel('Age')\n",
    "plt.title('Box Plot')\n",
    "plt.show()"
   ]
  },
  {
   "cell_type": "code",
   "execution_count": 14,
   "id": "513f5442-ebb5-4612-80f1-3d1cf08b0755",
   "metadata": {},
   "outputs": [
    {
     "name": "stdout",
     "output_type": "stream",
     "text": [
      "Lower Bound: 3.705400107925648\n",
      "Upper Bound: 55.578785285332785\n"
     ]
    }
   ],
   "source": [
    "# As we can see from the above Box and whisker plot, Out age dataset has outliers values.\n",
    "# The values less than 5 and more then 55 are outliers/ \n",
    "\n",
    "# Calculate summary statistics \n",
    "mean=df4['Age'].mean()\n",
    "std=df4['Age'].std()\n",
    "\n",
    "# Calculate the lower and upper bounds \n",
    "lower_bound= mean-std*2\n",
    "upper_bound= mean+std*2\n",
    "\n",
    "print('Lower Bound:',lower_bound)\n",
    "print('Upper Bound:',upper_bound)\n",
    "\n",
    "# Drop the outliers \n",
    "df5=df4[(df4['Age']>=lower_bound) & (df4['Age']<=upper_bound)]"
   ]
  },
  {
   "cell_type": "code",
   "execution_count": 34,
   "id": "267b5b30-a6e0-44da-8fa6-d25c2ba6976b",
   "metadata": {},
   "outputs": [
    {
     "name": "stderr",
     "output_type": "stream",
     "text": [
      "/var/folders/yw/ff75x_1d3yg35v4w0f_xv8vh0000gn/T/ipykernel_70698/75826604.py:30: SettingWithCopyWarning: \n",
      "A value is trying to be set on a copy of a slice from a DataFrame.\n",
      "Try using .loc[row_indexer,col_indexer] = value instead\n",
      "\n",
      "See the caveats in the documentation: https://pandas.pydata.org/pandas-docs/stable/user_guide/indexing.html#returning-a-view-versus-a-copy\n",
      "  x1[num_col_] = scaler.fit_transform(x1[num_col_])\n"
     ]
    },
    {
     "data": {
      "text/html": [
       "<div>\n",
       "<style scoped>\n",
       "    .dataframe tbody tr th:only-of-type {\n",
       "        vertical-align: middle;\n",
       "    }\n",
       "\n",
       "    .dataframe tbody tr th {\n",
       "        vertical-align: top;\n",
       "    }\n",
       "\n",
       "    .dataframe thead th {\n",
       "        text-align: right;\n",
       "    }\n",
       "</style>\n",
       "<table border=\"1\" class=\"dataframe\">\n",
       "  <thead>\n",
       "    <tr style=\"text-align: right;\">\n",
       "      <th></th>\n",
       "      <th>Pclass</th>\n",
       "      <th>Sex</th>\n",
       "      <th>Age</th>\n",
       "      <th>SibSp</th>\n",
       "      <th>Parch</th>\n",
       "      <th>Fare</th>\n",
       "      <th>Embarked</th>\n",
       "    </tr>\n",
       "  </thead>\n",
       "  <tbody>\n",
       "    <tr>\n",
       "      <th>0</th>\n",
       "      <td>1.0</td>\n",
       "      <td>male</td>\n",
       "      <td>0.271174</td>\n",
       "      <td>0.125</td>\n",
       "      <td>0.0</td>\n",
       "      <td>0.014151</td>\n",
       "      <td>S</td>\n",
       "    </tr>\n",
       "    <tr>\n",
       "      <th>1</th>\n",
       "      <td>0.0</td>\n",
       "      <td>female</td>\n",
       "      <td>0.472229</td>\n",
       "      <td>0.125</td>\n",
       "      <td>0.0</td>\n",
       "      <td>0.139136</td>\n",
       "      <td>C</td>\n",
       "    </tr>\n",
       "    <tr>\n",
       "      <th>2</th>\n",
       "      <td>1.0</td>\n",
       "      <td>female</td>\n",
       "      <td>0.321438</td>\n",
       "      <td>0.000</td>\n",
       "      <td>0.0</td>\n",
       "      <td>0.015469</td>\n",
       "      <td>S</td>\n",
       "    </tr>\n",
       "    <tr>\n",
       "      <th>3</th>\n",
       "      <td>0.0</td>\n",
       "      <td>female</td>\n",
       "      <td>0.434531</td>\n",
       "      <td>0.125</td>\n",
       "      <td>0.0</td>\n",
       "      <td>0.103644</td>\n",
       "      <td>S</td>\n",
       "    </tr>\n",
       "    <tr>\n",
       "      <th>4</th>\n",
       "      <td>1.0</td>\n",
       "      <td>male</td>\n",
       "      <td>0.434531</td>\n",
       "      <td>0.000</td>\n",
       "      <td>0.0</td>\n",
       "      <td>0.015713</td>\n",
       "      <td>S</td>\n",
       "    </tr>\n",
       "  </tbody>\n",
       "</table>\n",
       "</div>"
      ],
      "text/plain": [
       "   Pclass     Sex       Age  SibSp  Parch      Fare Embarked\n",
       "0     1.0    male  0.271174  0.125    0.0  0.014151        S\n",
       "1     0.0  female  0.472229  0.125    0.0  0.139136        C\n",
       "2     1.0  female  0.321438  0.000    0.0  0.015469        S\n",
       "3     0.0  female  0.434531  0.125    0.0  0.103644        S\n",
       "4     1.0    male  0.434531  0.000    0.0  0.015713        S"
      ]
     },
     "execution_count": 34,
     "metadata": {},
     "output_type": "execute_result"
    }
   ],
   "source": [
    "# Data transformation involves converting the data from one form to another\n",
    "# to make it more suitable for analusis.\n",
    "# Techniques such as normalization, scaling or encoding can be used to transform the data.\n",
    "\n",
    "X = df4[['Pclass','Sex','Age','SibSp','Parch','Fare','Embarked']]\n",
    "Y = df4['Survived']\n",
    "\n",
    "# Data fromatting involves converting the data into a standard format\n",
    "# or structure that can be easily processed by the algorithms \n",
    "\n",
    "# Scalling involves transforming the values of features to a specific range \n",
    "# It maintains the shape of the original distrubution while changing the scale \n",
    "\n",
    "# Min-Max scaling: Min-Max scaling rescales the values to a speicified range,\n",
    "# typincally between 0 and 1\n",
    "\n",
    "# It prevents the original distribution and ensures that the minimum value\n",
    "# maps to 0 and the maximum values maps to 1.\n",
    "\n",
    "from sklearn.preprocessing import MinMaxScaler\n",
    "\n",
    "# initialising the MinMaxScaler\n",
    "scaler = MinMaxScaler(feature_range=(0,1))\n",
    "\n",
    "# Numerical columns \n",
    "num_col_ =[col for col in X.columns if X[col].dtype!='object']\n",
    "x1=X\n",
    "\n",
    "#learning the statistical parameters for each of the data and transforming \n",
    "x1[num_col_] = scaler.fit_transform(x1[num_col_])\n",
    "x1.head()"
   ]
  }
 ],
 "metadata": {
  "kernelspec": {
   "display_name": "Python 3 (ipykernel)",
   "language": "python",
   "name": "python3"
  },
  "language_info": {
   "codemirror_mode": {
    "name": "ipython",
    "version": 3
   },
   "file_extension": ".py",
   "mimetype": "text/x-python",
   "name": "python",
   "nbconvert_exporter": "python",
   "pygments_lexer": "ipython3",
   "version": "3.12.7"
  }
 },
 "nbformat": 4,
 "nbformat_minor": 5
}
