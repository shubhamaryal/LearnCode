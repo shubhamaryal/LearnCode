{
 "cells": [
  {
   "cell_type": "code",
   "execution_count": 1,
   "id": "727a55d5-b827-4ad6-b5c3-921af76d201b",
   "metadata": {},
   "outputs": [
    {
     "name": "stdout",
     "output_type": "stream",
     "text": [
      "\n",
      "Heights of students: [5.5, 5.6, 5.4, 5.6, 5.5, 5.6, 5.5, 5.7, 5.5, 5.7, 5.5, 5.7, 5.5, 5.6, 5.3, 5.6, 6.1, 5.7, 5.4, 5.5, 5.5, 5.6, 5.6, 5.7, 5.6, 5.5, 5.5, 5.6, 6.0, 5.6]\n",
      "Sample Mean Height: 5.589999999999999\n",
      "Selected Mean Height: (selected) 5.5\n",
      "T-Statistic:  3.113400066244213\n",
      "P-Value:  0.004135693224239471\n",
      "\n",
      "Reject the null hypothesis: The average height of students is significantly different from the selected mean height.\n",
      "Conclusion: The standard t-shirt size may not fit all students.\n"
     ]
    }
   ],
   "source": [
    "#null hypothesis : There is no significant difference between the sample mean and the selected mean height.\n",
    "\n",
    "#using actual height\n",
    "import numpy as np \n",
    "import scipy.stats as stats\n",
    "\n",
    "# manually enter the heights of 30 students (in cm)\n",
    "student_heights = [\n",
    "    5.5, 5.6, 5.4, 5.6, 5.5, 5.6, 5.5, 5.7, 5.5, 5.7,\n",
    "    5.5, 5.7, 5.5, 5.6, 5.3, 5.6, 6.1, 5.7, 5.4, 5.5,\n",
    "    5.5, 5.6, 5.6, 5.7, 5.6, 5.5, 5.5, 5.6, 6.0, 5.6\n",
    "]\n",
    "\n",
    "# calculated the known mean height dynamically based on the entered heights\n",
    "selected_mean_height = 5.5\n",
    "\n",
    "# Perform a one-sample t-test\n",
    "t_stat, p_value = stats.ttest_1samp(student_heights, selected_mean_height)\n",
    "\n",
    "# Print results\n",
    "print(\"\\nHeights of students:\", student_heights)\n",
    "print(\"Sample Mean Height:\", np.mean(student_heights))\n",
    "print(\"Selected Mean Height: (selected)\",selected_mean_height)\n",
    "print(\"T-Statistic: \", t_stat)\n",
    "print(\"P-Value: \",p_value)\n",
    "# smaller the p-value, more evidence there is in the sample data against the null hypothesis.\n",
    "\n",
    "# Set significance level\n",
    "#null hypothesis : There is no significant difference between the sample mean and the selected mean height.\n",
    "# type 1 error defination: when null hypothesis is reflected but it is true.\n",
    "# type 1 error in this case:\n",
    "#     There is significant difference between the sample mean and the selected mean height.\n",
    "#     i.e. the standard T-shirt size may not fit all students.\n",
    "#     so here type 1 error is not serious, significant level can be incremented.\n",
    "\n",
    "# remember : this is more serious the type 1 error, the smaller the significance level.\n",
    "\n",
    "alpha = 0.05\n",
    "# its the maximum value of probability of rejecting null hypothesis when it is true.\n",
    "\n",
    "# Interpretation\n",
    "if p_value < alpha:\n",
    "    print(\"\\nReject the null hypothesis: The average height of students is significantly different from the selected mean height.\")\n",
    "    print(\"Conclusion: The standard t-shirt size may not fit all students.\")\n",
    "else:\n",
    "    print(\"\\nFail to reject the null hypothesis: There is no significant difference between the sample mean and the selected mean height.\")\n",
    "    print(\"Conclusion: The standard t-shirt size likely fits all the students.\")"
   ]
  },
  {
   "cell_type": "code",
   "execution_count": 2,
   "id": "85f7e230-b171-40b1-bbe3-fe2719efad50",
   "metadata": {},
   "outputs": [
    {
     "name": "stdout",
     "output_type": "stream",
     "text": [
      "   sepal_length  sepal_width  petal_length  petal_width species\n",
      "0           5.1          3.5           1.4          0.2  setosa\n",
      "1           4.9          3.0           1.4          0.2  setosa\n",
      "2           4.7          3.2           1.3          0.2  setosa\n",
      "3           4.6          3.1           1.5          0.2  setosa\n",
      "4           5.0          3.6           1.4          0.2  setosa\n"
     ]
    }
   ],
   "source": [
    "import pandas as pd\n",
    "import numpy as np\n",
    "\n",
    "df1 = pd.read_csv('iris.csv')\n",
    "print(df1.head())"
   ]
  },
  {
   "cell_type": "code",
   "execution_count": 3,
   "id": "07d89c81-d8a4-497a-9e6b-e1c6355d11de",
   "metadata": {},
   "outputs": [
    {
     "name": "stdout",
     "output_type": "stream",
     "text": [
      "   sepal_length  sepal_width  petal_length  petal_width species\n",
      "0           5.1          3.5           1.4          0.2  setosa\n",
      "1           4.9          3.0           1.4          0.2  setosa\n",
      "2           4.7          3.2           1.3          0.2  setosa\n",
      "3           4.6          3.1           1.5          0.2  setosa\n",
      "4           5.0          3.6           1.4          0.2  setosa\n"
     ]
    }
   ],
   "source": [
    "df2 = pd.read_json('irisjson.json')\n",
    "print(df2.head())"
   ]
  },
  {
   "cell_type": "code",
   "execution_count": 4,
   "id": "04e08ece-1ce5-49eb-a69b-f7877d42571d",
   "metadata": {},
   "outputs": [
    {
     "name": "stdout",
     "output_type": "stream",
     "text": [
      "   sepal_length  sepal_width  petal_length  petal_width species\n",
      "0           5.1          3.5           1.4          0.2  setosa\n",
      "1           4.9          3.0           1.4          0.2  setosa\n",
      "2           4.7          3.2           1.3          0.2  setosa\n",
      "3           4.6          3.1           1.5          0.2  setosa\n",
      "4           5.0          3.6           1.4          0.2  setosa\n"
     ]
    }
   ],
   "source": [
    "df3 = pd.read_xml('irisxml.xml')\n",
    "print(df3.head())"
   ]
  },
  {
   "cell_type": "code",
   "execution_count": 5,
   "id": "67dc0c3f-48f1-4e98-bc46-a2b7c087dc2c",
   "metadata": {},
   "outputs": [
    {
     "data": {
      "text/plain": [
       "(150, 5)"
      ]
     },
     "execution_count": 5,
     "metadata": {},
     "output_type": "execute_result"
    }
   ],
   "source": [
    "df1.shape"
   ]
  },
  {
   "cell_type": "code",
   "execution_count": 6,
   "id": "05e22d53-8bb4-406f-b7b0-c839648fa251",
   "metadata": {},
   "outputs": [
    {
     "data": {
      "text/html": [
       "<div>\n",
       "<style scoped>\n",
       "    .dataframe tbody tr th:only-of-type {\n",
       "        vertical-align: middle;\n",
       "    }\n",
       "\n",
       "    .dataframe tbody tr th {\n",
       "        vertical-align: top;\n",
       "    }\n",
       "\n",
       "    .dataframe thead th {\n",
       "        text-align: right;\n",
       "    }\n",
       "</style>\n",
       "<table border=\"1\" class=\"dataframe\">\n",
       "  <thead>\n",
       "    <tr style=\"text-align: right;\">\n",
       "      <th></th>\n",
       "      <th>sepal_length</th>\n",
       "      <th>sepal_width</th>\n",
       "      <th>petal_length</th>\n",
       "      <th>petal_width</th>\n",
       "      <th>species</th>\n",
       "    </tr>\n",
       "  </thead>\n",
       "  <tbody>\n",
       "    <tr>\n",
       "      <th>145</th>\n",
       "      <td>6.7</td>\n",
       "      <td>3.0</td>\n",
       "      <td>5.2</td>\n",
       "      <td>2.3</td>\n",
       "      <td>virginica</td>\n",
       "    </tr>\n",
       "    <tr>\n",
       "      <th>146</th>\n",
       "      <td>6.3</td>\n",
       "      <td>2.5</td>\n",
       "      <td>5.0</td>\n",
       "      <td>1.9</td>\n",
       "      <td>virginica</td>\n",
       "    </tr>\n",
       "    <tr>\n",
       "      <th>147</th>\n",
       "      <td>6.5</td>\n",
       "      <td>3.0</td>\n",
       "      <td>5.2</td>\n",
       "      <td>2.0</td>\n",
       "      <td>virginica</td>\n",
       "    </tr>\n",
       "    <tr>\n",
       "      <th>148</th>\n",
       "      <td>6.2</td>\n",
       "      <td>3.4</td>\n",
       "      <td>5.4</td>\n",
       "      <td>2.3</td>\n",
       "      <td>virginica</td>\n",
       "    </tr>\n",
       "    <tr>\n",
       "      <th>149</th>\n",
       "      <td>5.9</td>\n",
       "      <td>3.0</td>\n",
       "      <td>5.1</td>\n",
       "      <td>1.8</td>\n",
       "      <td>virginica</td>\n",
       "    </tr>\n",
       "  </tbody>\n",
       "</table>\n",
       "</div>"
      ],
      "text/plain": [
       "     sepal_length  sepal_width  petal_length  petal_width    species\n",
       "145           6.7          3.0           5.2          2.3  virginica\n",
       "146           6.3          2.5           5.0          1.9  virginica\n",
       "147           6.5          3.0           5.2          2.0  virginica\n",
       "148           6.2          3.4           5.4          2.3  virginica\n",
       "149           5.9          3.0           5.1          1.8  virginica"
      ]
     },
     "execution_count": 6,
     "metadata": {},
     "output_type": "execute_result"
    }
   ],
   "source": [
    "df1.tail()"
   ]
  },
  {
   "cell_type": "code",
   "execution_count": 7,
   "id": "09ecc882-4226-45aa-897c-99ac9e44bdcf",
   "metadata": {},
   "outputs": [
    {
     "name": "stdout",
     "output_type": "stream",
     "text": [
      "\n",
      "Duplicated rows: \n",
      "     sepal_length  sepal_width  petal_length  petal_width    species\n",
      "142           5.8          2.7           5.1          1.9  virginica\n"
     ]
    }
   ],
   "source": [
    "duplicates = df1[df1.duplicated()]\n",
    "print(\"\\nDuplicated rows: \")\n",
    "print(duplicates)"
   ]
  },
  {
   "cell_type": "code",
   "execution_count": 8,
   "id": "b1e567ea-adeb-480d-8d92-286c592f064c",
   "metadata": {},
   "outputs": [
    {
     "data": {
      "text/plain": [
       "sepal_length    0.0\n",
       "sepal_width     0.0\n",
       "petal_length    0.0\n",
       "petal_width     0.0\n",
       "species         0.0\n",
       "dtype: float64"
      ]
     },
     "execution_count": 8,
     "metadata": {},
     "output_type": "execute_result"
    }
   ],
   "source": [
    "round((df1.isnull().sum()/df1.shape[0])*100,2)"
   ]
  },
  {
   "cell_type": "markdown",
   "id": "3a9c71c1-a66a-4f30-ad88-33a47f1d1cbf",
   "metadata": {},
   "source": [
    "# Use of describe function()\n",
    "This is a pure comment explaining the code below. You can use:\n",
    "- The describe() function in pandas is used to generate descriptive statistics for the columns of a DataFrame.\n",
    "- **Describe** provides a quick summary of the dataset's distribution,\n",
    "- Including key statistics such as the count, mean, standard deviation, minimum, and percentiles for numeric columns."
   ]
  },
  {
   "cell_type": "code",
   "execution_count": 10,
   "id": "522cc95e-3521-4585-94e0-2c20a9409a46",
   "metadata": {},
   "outputs": [
    {
     "data": {
      "text/html": [
       "<div>\n",
       "<style scoped>\n",
       "    .dataframe tbody tr th:only-of-type {\n",
       "        vertical-align: middle;\n",
       "    }\n",
       "\n",
       "    .dataframe tbody tr th {\n",
       "        vertical-align: top;\n",
       "    }\n",
       "\n",
       "    .dataframe thead th {\n",
       "        text-align: right;\n",
       "    }\n",
       "</style>\n",
       "<table border=\"1\" class=\"dataframe\">\n",
       "  <thead>\n",
       "    <tr style=\"text-align: right;\">\n",
       "      <th></th>\n",
       "      <th>species</th>\n",
       "    </tr>\n",
       "  </thead>\n",
       "  <tbody>\n",
       "    <tr>\n",
       "      <th>count</th>\n",
       "      <td>150</td>\n",
       "    </tr>\n",
       "    <tr>\n",
       "      <th>unique</th>\n",
       "      <td>3</td>\n",
       "    </tr>\n",
       "    <tr>\n",
       "      <th>top</th>\n",
       "      <td>setosa</td>\n",
       "    </tr>\n",
       "    <tr>\n",
       "      <th>freq</th>\n",
       "      <td>50</td>\n",
       "    </tr>\n",
       "  </tbody>\n",
       "</table>\n",
       "</div>"
      ],
      "text/plain": [
       "       species\n",
       "count      150\n",
       "unique       3\n",
       "top     setosa\n",
       "freq        50"
      ]
     },
     "execution_count": 10,
     "metadata": {},
     "output_type": "execute_result"
    }
   ],
   "source": [
    "df1.describe(include='object')"
   ]
  },
  {
   "cell_type": "code",
   "execution_count": 11,
   "id": "4f38e5c0-9086-4023-88ce-01ef797b082b",
   "metadata": {},
   "outputs": [
    {
     "name": "stdout",
     "output_type": "stream",
     "text": [
      "     A    B\n",
      "1  2.0  2.0\n",
      "3  4.0  4.0\n"
     ]
    }
   ],
   "source": [
    "import pandas as pd\n",
    "\n",
    "df = pd.DataFrame({\n",
    "    'A': [1, 2, None, 4],\n",
    "    'B': [None, 2, 3, 4]\n",
    "})\n",
    "\n",
    "df_cleaned = df.dropna() # Drops rows with any Nan values\n",
    "print(df_cleaned)"
   ]
  },
  {
   "cell_type": "code",
   "execution_count": 12,
   "id": "38743eb6-978b-4c1b-8ff1-42a004247df3",
   "metadata": {},
   "outputs": [
    {
     "name": "stdout",
     "output_type": "stream",
     "text": [
      "['setosa' 'versicolor' 'virginica']\n",
      "species\n",
      "setosa        50\n",
      "versicolor    50\n",
      "virginica     50\n",
      "Name: count, dtype: int64\n"
     ]
    }
   ],
   "source": [
    "unique_species = df1['species'].unique()\n",
    "print(unique_species)\n",
    "\n",
    "species_counts = df1['species'].value_counts()\n",
    "print(species_counts)"
   ]
  },
  {
   "cell_type": "code",
   "execution_count": 13,
   "id": "da898451-ccbf-47f3-b404-8b23a5bd69d0",
   "metadata": {},
   "outputs": [
    {
     "name": "stdout",
     "output_type": "stream",
     "text": [
      "5.843333333333334\n"
     ]
    }
   ],
   "source": [
    "mean = df1['sepal_length'].mean()\n",
    "print(mean)"
   ]
  },
  {
   "cell_type": "code",
   "execution_count": 14,
   "id": "400614ae-0b34-4d9b-ac8e-036f097fc875",
   "metadata": {},
   "outputs": [
    {
     "name": "stdout",
     "output_type": "stream",
     "text": [
      "5.8\n"
     ]
    }
   ],
   "source": [
    "median = df1['sepal_length'].median()\n",
    "print(median)"
   ]
  },
  {
   "cell_type": "code",
   "execution_count": 15,
   "id": "1d83fb0d-b226-482e-a30e-364e19a4465c",
   "metadata": {},
   "outputs": [
    {
     "name": "stdout",
     "output_type": "stream",
     "text": [
      "0    5.0\n",
      "Name: sepal_length, dtype: float64\n"
     ]
    }
   ],
   "source": [
    "mode = df1['sepal_length'].mode()\n",
    "print(mode)"
   ]
  },
  {
   "cell_type": "code",
   "execution_count": 16,
   "id": "a91e4be7-f383-467f-8c22-fc11ea8e69e5",
   "metadata": {},
   "outputs": [],
   "source": [
    "import pandas as pd\n",
    "import numpy as np\n",
    "import matplotlib.pyplot as plt\n",
    "import seaborn as sns"
   ]
  },
  {
   "cell_type": "markdown",
   "id": "28490b1b-2b41-4e4e-9db6-5691c4d20635",
   "metadata": {},
   "source": [
    "# Plotting Distribution "
   ]
  },
  {
   "cell_type": "code",
   "execution_count": 37,
   "id": "949ba029-c7c8-44c7-8ad3-700c6942be08",
   "metadata": {},
   "outputs": [
    {
     "data": {
      "image/png": "[encoded data removed]",
      "text/plain": [
       "<Figure size 500x500 with 1 Axes>"
      ]
     },
     "metadata": {},
     "output_type": "display_data"
    }
   ],
   "source": [
    "sns.displot(df1['sepal_length'], kde=True, bins=30, kind=\"hist\")\n",
    "\n",
    "plt.title(\"Histogram of Sepal Length\")\n",
    "plt.xlabel(\"Sepal Length\")\n",
    "plt.ylabel(\"Frequency\")\n",
    "\n",
    "plt.show()"
   ]
  },
  {
   "cell_type": "markdown",
   "id": "cfda9111-5704-4a54-a16c-f4c26a5a00a8",
   "metadata": {},
   "source": [
    "### Visual Output\n",
    "- this histogram bars show the frequency (count) of speal_lenght values within each bin.\n",
    "- The KDE(Kernal Density Estimation) curve overlays a smoothed line to represent the probability density of the data, making it easier to see the underlying distribution.\n",
    "- The speal length values are distributed across a range (approzimately 4.5 to 8.0)\n",
    "- The KDE curve indicates that the data might follow a unimodal distribution, peaking near the middle range of speal_length."
   ]
  },
  {
   "cell_type": "code",
   "execution_count": 42,
   "id": "f7847561-f060-4c09-ae6b-5879ed4230d5",
   "metadata": {},
   "outputs": [
    {
     "data": {
      "image/png": "[encoded data removed]",
      "text/plain": [
       "<Figure size 640x480 with 1 Axes>"
      ]
     },
     "metadata": {},
     "output_type": "display_data"
    }
   ],
   "source": [
    "import seaborn as sns\n",
    "import matplotlib.pyplot as plt \n",
    "\n",
    "sns.boxplot(x=df1['sepal_length'])\n",
    "\n",
    "# Add a title and labels \n",
    "plt.title('Box-and-Whisker Plot of Sepal lenght')\n",
    "plt.xlabel('Speal Lenght')\n",
    "\n",
    "# Display the plot\n",
    "plt.show()"
   ]
  },
  {
   "cell_type": "markdown",
   "id": "f77ff323-1cc1-4e8d-abbd-26f924d84531",
   "metadata": {},
   "source": [
    "# Computation of measures of dispersion or variability\n",
    "\n",
    "Minimum value"
   ]
  },
  {
   "cell_type": "code",
   "execution_count": 45,
   "id": "9f85f66d-ee39-4252-ad79-f80723995c46",
   "metadata": {},
   "outputs": [
    {
     "data": {
      "text/plain": [
       "4.3"
      ]
     },
     "execution_count": 45,
     "metadata": {},
     "output_type": "execute_result"
    }
   ],
   "source": [
    "df1['sepal_length'].min()"
   ]
  },
  {
   "cell_type": "markdown",
   "id": "05679119-d368-42ff-9309-2bbc83c1c24a",
   "metadata": {},
   "source": [
    "First Quartile"
   ]
  },
  {
   "cell_type": "code",
   "execution_count": 51,
   "id": "4be4fd94-62ae-4577-8d80-b1234825bddb",
   "metadata": {},
   "outputs": [
    {
     "data": {
      "text/plain": [
       "5.1"
      ]
     },
     "execution_count": 51,
     "metadata": {},
     "output_type": "execute_result"
    }
   ],
   "source": [
    "Q1 =df1['sepal_length'].quantile(0.25)\n",
    "Q1"
   ]
  },
  {
   "cell_type": "markdown",
   "id": "3a46093f-16f9-4e7c-a559-a5211eb7fd06",
   "metadata": {},
   "source": [
    "Second Quartile"
   ]
  },
  {
   "cell_type": "code",
   "execution_count": 56,
   "id": "3a54d555-8cb0-4172-aea7-f58508196e2c",
   "metadata": {},
   "outputs": [
    {
     "data": {
      "text/plain": [
       "5.8"
      ]
     },
     "execution_count": 56,
     "metadata": {},
     "output_type": "execute_result"
    }
   ],
   "source": [
    "Q2 =df1['sepal_length'].quantile(0.5)\n",
    "Q2"
   ]
  },
  {
   "cell_type": "markdown",
   "id": "1ee51396-777b-497e-ad24-6140345a75d5",
   "metadata": {},
   "source": [
    "Third Quartile"
   ]
  },
  {
   "cell_type": "code",
   "execution_count": 59,
   "id": "2e9061d2-6db7-45cb-8865-12227de79c05",
   "metadata": {},
   "outputs": [
    {
     "data": {
      "text/plain": [
       "6.4"
      ]
     },
     "execution_count": 59,
     "metadata": {},
     "output_type": "execute_result"
    }
   ],
   "source": [
    "Q3 =df1['sepal_length'].quantile(0.75)\n",
    "Q3"
   ]
  },
  {
   "cell_type": "markdown",
   "id": "108707b5-b63c-4518-b8e9-ec5ddb642960",
   "metadata": {},
   "source": [
    "Inter-Quartile Range"
   ]
  },
  {
   "cell_type": "code",
   "execution_count": 62,
   "id": "78d6b34d-6b71-411b-bb83-d93ab0306407",
   "metadata": {},
   "outputs": [
    {
     "data": {
      "text/plain": [
       "1.3000000000000007"
      ]
     },
     "execution_count": 62,
     "metadata": {},
     "output_type": "execute_result"
    }
   ],
   "source": [
    "IQR=Q3-Q1\n",
    "IQR"
   ]
  },
  {
   "cell_type": "markdown",
   "id": "e87c3f84-034f-4f92-8cda-d67fe8ac0864",
   "metadata": {},
   "source": [
    "## Insight from the plot \n",
    "\n",
    "- The dataset's distribution is relatively symmetric because the median line is roughly in the center of the box.\n",
    "- The whiskers are balanced, indicating no significant skewness in the data.\n",
    "- There are no apparent outliers since no data points fall outside the whisker boundaries.\n",
    "- The IQR shows the middle 50% of the data lies between 5.0 (Q1) and 6.5 (Q3), with a median (Q2) around 6.0."
   ]
  }
 ],
 "metadata": {
  "kernelspec": {
   "display_name": "Python 3 (ipykernel)",
   "language": "python",
   "name": "python3"
  },
  "language_info": {
   "codemirror_mode": {
    "name": "ipython",
    "version": 3
   },
   "file_extension": ".py",
   "mimetype": "text/x-python",
   "name": "python",
   "nbconvert_exporter": "python",
   "pygments_lexer": "ipython3",
   "version": "3.12.7"
  }
 },
 "nbformat": 4,
 "nbformat_minor": 5
}
