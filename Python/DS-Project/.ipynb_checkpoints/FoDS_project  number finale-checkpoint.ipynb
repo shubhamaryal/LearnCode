{
 "cells": [
  {
   "cell_type": "code",
   "execution_count": 1,
   "id": "6851d10d-dc15-4a61-9792-910e7cf1ca72",
   "metadata": {},
   "outputs": [],
   "source": [
    "import pandas as pd\n",
    "import numpy as  np\n",
    "from matplotlib import pyplot as plt"
   ]
  },
  {
   "cell_type": "code",
   "execution_count": 2,
   "id": "de581ab4-d56a-4785-85da-70c66a698503",
   "metadata": {
    "scrolled": true
   },
   "outputs": [],
   "source": [
    "data =pd.read_csv(\"mnist_test.csv\")"
   ]
  },
  {
   "cell_type": "code",
   "execution_count": 3,
   "id": "d81e791f-bace-41c1-8459-086468b00521",
   "metadata": {},
   "outputs": [],
   "source": [
    "data = np.array(data)\n",
    "m,n=data.shape\n",
    "np.random.shuffle(data)\n",
    "data_dev=data[0:1000].T\n",
    "y_dev=data_dev[0]\n",
    "x_dev=data_dev[1:n]\n",
    "data_train=data[1000:m].T\n",
    "y_train=data_train[0]\n",
    "x_train = data_train[1:]\n",
    "x_train=x_train/255.0"
   ]
  },
  {
   "cell_type": "code",
   "execution_count": 4,
   "id": "9a243b57-9456-487c-9fbf-c6cb5eaa4d1e",
   "metadata": {},
   "outputs": [],
   "source": [
    "def RELU(z): # Activation function for layer 1\n",
    "    return np.maximum(0,z)\n",
    "    \n",
    "def SFTMAX(z): # Activation function for layer 2, changes to probability form\n",
    "    z -= np.max(z, axis=0, keepdims=True)  \n",
    "    return np.exp(z) / np.sum(np.exp(z), axis=0, keepdims=True)\n",
    "    \n",
    "def init_parameters(): # initialization of weight(w) and biases(b)\n",
    "    w1=np.random.rand(10,784)-0.5\n",
    "    b1=np.random.rand(10,1)-0.5\n",
    "    w2=np.random.rand(10,10)-0.5\n",
    "    b2=np.random.rand(10,1)-0.5\n",
    "    return w1, b1, w2, b2\n",
    "    \n",
    "def one_hot(y): # suitable form ma convert grni for algorithm\n",
    "    one_hot_y = np.zeros((y.max() + 1, y.size))\n",
    "    one_hot_y[y, np.arange(y.size)] = 1\n",
    "    return one_hot_y\n",
    "    \n",
    "def forward_prop(w1, b1, w2, b2, x): # agadi tira lagyeko\n",
    "    z1 = w1.dot(x) + b1 \n",
    "    a1 = RELU(z1)\n",
    "    z2 = w2.dot(a1) + b2\n",
    "    a2 = SFTMAX(z2)\n",
    "    return z1, a1, z2, a2\n",
    "\n",
    "    \n",
    "def derv_RELU(z): # derivative of RELU function\n",
    "    return z>0\n",
    "    \n",
    "def back_prop(z1, a1, z2, a2, w2,x, y): # actual ra n.network le deko result lai herera weight ra biases kati le change grni determine grxa \n",
    "    m = y.size\n",
    "    one_hot_y = one_hot(y)\n",
    "    dz2 = a2 - one_hot_y\n",
    "    dw2 = (1 / m) * dz2.dot(a1.T)\n",
    "    db2 = (1/m) * np.sum(dz2, axis=1, keepdims=True)\n",
    "    dz1 = w2.T.dot(dz2) * derv_RELU(z1)\n",
    "    dw1 = (1 / m) * dz1.dot(x.T)\n",
    "    db1 = (1/m) * np.sum(dz1, axis=1, keepdims=True)\n",
    "    return dw1, db1, dw2, db2\n",
    "    \n",
    "def update_pram(w1, b1, w2, b2, dw1, db1, dw2, db2, alpha): # back_prop le deko bata update grya value \n",
    "    w1 = w1 - alpha * dw1\n",
    "    b1 = b1 - alpha * db1.reshape(b1.shape)  \n",
    "    w2 = w2 - alpha * dw2\n",
    "    b2 = b2 - alpha * db2.reshape(b2.shape) \n",
    "    return w1, b1, w2, b2\n",
    "\n",
    "    "
   ]
  },
  {
   "cell_type": "code",
   "execution_count": 5,
   "id": "b649bed0-64f7-4224-a4e2-1893144adaf0",
   "metadata": {},
   "outputs": [],
   "source": [
    "def get_pred(a2): # prediction leko\n",
    "    return np.argmax(a2, axis=0)\n",
    "\n",
    "def get_acc(prediction, y): # calculates accuracy\n",
    "    return np.sum(prediction == y) / y.size\n",
    "\n",
    "def gradient_decent(x, y, itrn, alpha): # gradient_decent use garyeko\n",
    "    w1, b1, w2, b2 = init_parameters()\n",
    "    for i in range(itrn):\n",
    "        z1, a1, z2, a2 = forward_prop(w1, b1, w2, b2, x)\n",
    "        dw1, db1, dw2, db2 = back_prop(z1, a1, z2, a2, w2,x, y)\n",
    "        w1, b1, w2, b2 = update_pram(w1, b1, w2, b2, dw1, db1, dw2, db2, alpha)\n",
    "        if i % 50 == 0:\n",
    "            print(\"Iteration:\",i)\n",
    "            print(\"accuracy:\",get_acc(get_pred(a2),y))\n",
    "    return w1, b1, w2, b2"
   ]
  },
  {
   "cell_type": "code",
   "execution_count": 6,
   "id": "da20677a-bfdd-4068-bd0b-71a7f400a48e",
   "metadata": {
    "scrolled": true
   },
   "outputs": [
    {
     "name": "stdout",
     "output_type": "stream",
     "text": [
      "Iteration: 0\n",
      "accuracy: 0.09166666666666666\n",
      "Iteration: 50\n",
      "accuracy: 0.4607777777777778\n",
      "Iteration: 100\n",
      "accuracy: 0.6096666666666667\n",
      "Iteration: 150\n",
      "accuracy: 0.7024444444444444\n",
      "Iteration: 200\n",
      "accuracy: 0.7657777777777778\n",
      "Iteration: 250\n",
      "accuracy: 0.8015555555555556\n",
      "Iteration: 300\n",
      "accuracy: 0.8214444444444444\n",
      "Iteration: 350\n",
      "accuracy: 0.8373333333333334\n",
      "Iteration: 400\n",
      "accuracy: 0.8474444444444444\n",
      "Iteration: 450\n",
      "accuracy: 0.8557777777777777\n",
      "Iteration: 500\n",
      "accuracy: 0.8617777777777778\n",
      "Iteration: 550\n",
      "accuracy: 0.8677777777777778\n",
      "Iteration: 600\n",
      "accuracy: 0.8736666666666667\n",
      "Iteration: 650\n",
      "accuracy: 0.8773333333333333\n",
      "Iteration: 700\n",
      "accuracy: 0.8807777777777778\n",
      "Iteration: 750\n",
      "accuracy: 0.8838888888888888\n",
      "Iteration: 800\n",
      "accuracy: 0.887\n",
      "Iteration: 850\n",
      "accuracy: 0.8898888888888888\n",
      "Iteration: 900\n",
      "accuracy: 0.8918888888888888\n",
      "Iteration: 950\n",
      "accuracy: 0.8937777777777778\n"
     ]
    }
   ],
   "source": [
    "w1, b1, w2, b2 = gradient_decent(x_train, y_train, 1000, 0.1) # function call"
   ]
  },
  {
   "cell_type": "code",
   "execution_count": 7,
   "id": "7ba1f6a8-78e8-4455-be8f-a8ab38889914",
   "metadata": {},
   "outputs": [],
   "source": [
    "def make_predictions(X, W1, b1, W2, b2): # prediction fun. call\n",
    "    _, _, _, A2 = forward_prop(W1, b1, W2, b2, X)\n",
    "    predictions = get_pred(A2)\n",
    "    return predictions\n",
    "\n",
    "def test_prediction(index, W1, b1, W2, b2): # actual value ra prediction value compare grya \n",
    "    current_image = x_train[:, index, None]\n",
    "    prediction = make_predictions(x_train[:, index, None], W1, b1, W2, b2)\n",
    "    label = y_train[index]\n",
    "    print(\"Prediction: \", prediction)\n",
    "    print(\"Label: \", label)\n",
    "\n",
    "    current_image = current_image.reshape((28, 28)) * 255\n",
    "    plt.gray()\n",
    "    plt.imshow(current_image, interpolation='nearest')\n",
    "    plt.show()"
   ]
  },
  {
   "cell_type": "code",
   "execution_count": 18,
   "id": "e3833f70-e50d-4753-a394-b93145679226",
   "metadata": {},
   "outputs": [
    {
     "name": "stdin",
     "output_type": "stream",
     "text": [
      "Enter an index:  5\n"
     ]
    },
    {
     "name": "stdout",
     "output_type": "stream",
     "text": [
      "Prediction:  [8]\n",
      "Label:  8\n"
     ]
    },
    {
     "data": {
      "image/png": "[encoded data removed]",
      "text/plain": [
       "<Figure size 640x480 with 1 Axes>"
      ]
     },
     "metadata": {},
     "output_type": "display_data"
    }
   ],
   "source": [
    "index = int(input(\"Enter an index: \")) # input\n",
    "test_prediction(index, w1, b1, w2, b2)"
   ]
  },
  {
   "cell_type": "code",
   "execution_count": null,
   "id": "015ab84c-4e77-4a63-bab6-83187636d978",
   "metadata": {},
   "outputs": [],
   "source": []
  }
 ],
 "metadata": {
  "kernelspec": {
   "display_name": "Python 3 (ipykernel)",
   "language": "python",
   "name": "python3"
  },
  "language_info": {
   "codemirror_mode": {
    "name": "ipython",
    "version": 3
   },
   "file_extension": ".py",
   "mimetype": "text/x-python",
   "name": "python",
   "nbconvert_exporter": "python",
   "pygments_lexer": "ipython3",
   "version": "3.12.7"
  }
 },
 "nbformat": 4,
 "nbformat_minor": 5
}
